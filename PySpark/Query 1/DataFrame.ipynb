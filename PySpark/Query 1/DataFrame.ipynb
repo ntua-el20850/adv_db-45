{
 "cells": [
  {
   "cell_type": "code",
   "execution_count": 1,
   "id": "32494c65-8384-45b1-8556-d7918cdf18f4",
   "metadata": {
    "tags": []
   },
   "outputs": [
    {
     "data": {
      "text/html": [
       "Current session configs: <tt>{'conf': {'spark.sql.catalog.spark_catalog.type': 'hive', 'spark.executor.instances': '4'}, 'kind': 'pyspark'}</tt><br>"
      ],
      "text/plain": [
       "<IPython.core.display.HTML object>"
      ]
     },
     "metadata": {},
     "output_type": "display_data"
    },
    {
     "data": {
      "text/html": [
       "<table>\n",
       "<tr><th>ID</th><th>YARN Application ID</th><th>Kind</th><th>State</th><th>Spark UI</th><th>Driver log</th><th>User</th><th>Current session?</th></tr><tr><td>3052</td><td>application_1732639283265_3010</td><td>pyspark</td><td>idle</td><td><a target=\"_blank\" href=\"http://ip-192-168-1-36.eu-central-1.compute.internal:20888/proxy/application_1732639283265_3010/\">Link</a></td><td><a target=\"_blank\" href=\"http://ip-192-168-1-193.eu-central-1.compute.internal:8042/node/containerlogs/container_1732639283265_3010_01_000001/livy\">Link</a></td><td>None</td><td></td></tr><tr><td>3082</td><td>application_1732639283265_3038</td><td>pyspark</td><td>idle</td><td><a target=\"_blank\" href=\"http://ip-192-168-1-36.eu-central-1.compute.internal:20888/proxy/application_1732639283265_3038/\">Link</a></td><td><a target=\"_blank\" href=\"http://ip-192-168-1-193.eu-central-1.compute.internal:8042/node/containerlogs/container_1732639283265_3038_01_000001/livy\">Link</a></td><td>None</td><td></td></tr><tr><td>3084</td><td>application_1732639283265_3040</td><td>pyspark</td><td>idle</td><td><a target=\"_blank\" href=\"http://ip-192-168-1-36.eu-central-1.compute.internal:20888/proxy/application_1732639283265_3040/\">Link</a></td><td><a target=\"_blank\" href=\"http://ip-192-168-1-203.eu-central-1.compute.internal:8042/node/containerlogs/container_1732639283265_3040_01_000002/livy\">Link</a></td><td>None</td><td></td></tr><tr><td>3087</td><td>application_1732639283265_3043</td><td>pyspark</td><td>idle</td><td><a target=\"_blank\" href=\"http://ip-192-168-1-36.eu-central-1.compute.internal:20888/proxy/application_1732639283265_3043/\">Link</a></td><td><a target=\"_blank\" href=\"http://ip-192-168-1-94.eu-central-1.compute.internal:8042/node/containerlogs/container_1732639283265_3043_01_000002/livy\">Link</a></td><td>None</td><td></td></tr><tr><td>3089</td><td>application_1732639283265_3045</td><td>pyspark</td><td>idle</td><td><a target=\"_blank\" href=\"http://ip-192-168-1-36.eu-central-1.compute.internal:20888/proxy/application_1732639283265_3045/\">Link</a></td><td><a target=\"_blank\" href=\"http://ip-192-168-1-119.eu-central-1.compute.internal:8042/node/containerlogs/container_1732639283265_3045_01_000002/livy\">Link</a></td><td>None</td><td></td></tr><tr><td>3100</td><td>application_1732639283265_3056</td><td>pyspark</td><td>idle</td><td><a target=\"_blank\" href=\"http://ip-192-168-1-36.eu-central-1.compute.internal:20888/proxy/application_1732639283265_3056/\">Link</a></td><td><a target=\"_blank\" href=\"http://ip-192-168-1-16.eu-central-1.compute.internal:8042/node/containerlogs/container_1732639283265_3056_01_000001/livy\">Link</a></td><td>None</td><td></td></tr><tr><td>3102</td><td>application_1732639283265_3058</td><td>pyspark</td><td>idle</td><td><a target=\"_blank\" href=\"http://ip-192-168-1-36.eu-central-1.compute.internal:20888/proxy/application_1732639283265_3058/\">Link</a></td><td><a target=\"_blank\" href=\"http://ip-192-168-1-16.eu-central-1.compute.internal:8042/node/containerlogs/container_1732639283265_3058_01_000001/livy\">Link</a></td><td>None</td><td></td></tr><tr><td>3112</td><td>application_1732639283265_3068</td><td>pyspark</td><td>idle</td><td><a target=\"_blank\" href=\"http://ip-192-168-1-36.eu-central-1.compute.internal:20888/proxy/application_1732639283265_3068/\">Link</a></td><td><a target=\"_blank\" href=\"http://ip-192-168-1-91.eu-central-1.compute.internal:8042/node/containerlogs/container_1732639283265_3068_01_000001/livy\">Link</a></td><td>None</td><td></td></tr><tr><td>3116</td><td>application_1732639283265_3072</td><td>pyspark</td><td>idle</td><td><a target=\"_blank\" href=\"http://ip-192-168-1-36.eu-central-1.compute.internal:20888/proxy/application_1732639283265_3072/\">Link</a></td><td><a target=\"_blank\" href=\"http://ip-192-168-1-233.eu-central-1.compute.internal:8042/node/containerlogs/container_1732639283265_3072_01_000001/livy\">Link</a></td><td>None</td><td></td></tr><tr><td>3125</td><td>application_1732639283265_3081</td><td>pyspark</td><td>idle</td><td><a target=\"_blank\" href=\"http://ip-192-168-1-36.eu-central-1.compute.internal:20888/proxy/application_1732639283265_3081/\">Link</a></td><td><a target=\"_blank\" href=\"http://ip-192-168-1-94.eu-central-1.compute.internal:8042/node/containerlogs/container_1732639283265_3081_01_000001/livy\">Link</a></td><td>None</td><td></td></tr><tr><td>3138</td><td>application_1732639283265_3094</td><td>pyspark</td><td>idle</td><td><a target=\"_blank\" href=\"http://ip-192-168-1-36.eu-central-1.compute.internal:20888/proxy/application_1732639283265_3094/\">Link</a></td><td><a target=\"_blank\" href=\"http://ip-192-168-1-166.eu-central-1.compute.internal:8042/node/containerlogs/container_1732639283265_3094_01_000001/livy\">Link</a></td><td>None</td><td></td></tr><tr><td>3139</td><td>application_1732639283265_3095</td><td>pyspark</td><td>idle</td><td><a target=\"_blank\" href=\"http://ip-192-168-1-36.eu-central-1.compute.internal:20888/proxy/application_1732639283265_3095/\">Link</a></td><td><a target=\"_blank\" href=\"http://ip-192-168-1-119.eu-central-1.compute.internal:8042/node/containerlogs/container_1732639283265_3095_01_000001/livy\">Link</a></td><td>None</td><td></td></tr><tr><td>3141</td><td>application_1732639283265_3097</td><td>pyspark</td><td>idle</td><td><a target=\"_blank\" href=\"http://ip-192-168-1-36.eu-central-1.compute.internal:20888/proxy/application_1732639283265_3097/\">Link</a></td><td><a target=\"_blank\" href=\"http://ip-192-168-1-247.eu-central-1.compute.internal:8042/node/containerlogs/container_1732639283265_3097_01_000002/livy\">Link</a></td><td>None</td><td></td></tr><tr><td>3157</td><td>application_1732639283265_3113</td><td>pyspark</td><td>idle</td><td><a target=\"_blank\" href=\"http://ip-192-168-1-36.eu-central-1.compute.internal:20888/proxy/application_1732639283265_3113/\">Link</a></td><td><a target=\"_blank\" href=\"http://ip-192-168-1-112.eu-central-1.compute.internal:8042/node/containerlogs/container_1732639283265_3113_01_000002/livy\">Link</a></td><td>None</td><td></td></tr><tr><td>3159</td><td>application_1732639283265_3115</td><td>pyspark</td><td>idle</td><td><a target=\"_blank\" href=\"http://ip-192-168-1-36.eu-central-1.compute.internal:20888/proxy/application_1732639283265_3115/\">Link</a></td><td><a target=\"_blank\" href=\"http://ip-192-168-1-233.eu-central-1.compute.internal:8042/node/containerlogs/container_1732639283265_3115_01_000002/livy\">Link</a></td><td>None</td><td></td></tr><tr><td>3162</td><td>application_1732639283265_3118</td><td>pyspark</td><td>idle</td><td><a target=\"_blank\" href=\"http://ip-192-168-1-36.eu-central-1.compute.internal:20888/proxy/application_1732639283265_3118/\">Link</a></td><td><a target=\"_blank\" href=\"http://ip-192-168-1-233.eu-central-1.compute.internal:8042/node/containerlogs/container_1732639283265_3118_01_000002/livy\">Link</a></td><td>None</td><td></td></tr><tr><td>3168</td><td>application_1732639283265_3124</td><td>pyspark</td><td>idle</td><td><a target=\"_blank\" href=\"http://ip-192-168-1-36.eu-central-1.compute.internal:20888/proxy/application_1732639283265_3124/\">Link</a></td><td><a target=\"_blank\" href=\"http://ip-192-168-1-80.eu-central-1.compute.internal:8042/node/containerlogs/container_1732639283265_3124_01_000001/livy\">Link</a></td><td>None</td><td></td></tr><tr><td>3185</td><td>application_1732639283265_3141</td><td>pyspark</td><td>idle</td><td><a target=\"_blank\" href=\"http://ip-192-168-1-36.eu-central-1.compute.internal:20888/proxy/application_1732639283265_3141/\">Link</a></td><td><a target=\"_blank\" href=\"http://ip-192-168-1-94.eu-central-1.compute.internal:8042/node/containerlogs/container_1732639283265_3141_01_000001/livy\">Link</a></td><td>None</td><td></td></tr><tr><td>3195</td><td>application_1732639283265_3151</td><td>pyspark</td><td>idle</td><td><a target=\"_blank\" href=\"http://ip-192-168-1-36.eu-central-1.compute.internal:20888/proxy/application_1732639283265_3151/\">Link</a></td><td><a target=\"_blank\" href=\"http://ip-192-168-1-94.eu-central-1.compute.internal:8042/node/containerlogs/container_1732639283265_3151_01_000002/livy\">Link</a></td><td>None</td><td></td></tr><tr><td>3208</td><td>application_1732639283265_3164</td><td>pyspark</td><td>idle</td><td><a target=\"_blank\" href=\"http://ip-192-168-1-36.eu-central-1.compute.internal:20888/proxy/application_1732639283265_3164/\">Link</a></td><td><a target=\"_blank\" href=\"http://ip-192-168-1-174.eu-central-1.compute.internal:8042/node/containerlogs/container_1732639283265_3164_01_000001/livy\">Link</a></td><td>None</td><td></td></tr><tr><td>3213</td><td>application_1732639283265_3169</td><td>pyspark</td><td>idle</td><td><a target=\"_blank\" href=\"http://ip-192-168-1-36.eu-central-1.compute.internal:20888/proxy/application_1732639283265_3169/\">Link</a></td><td><a target=\"_blank\" href=\"http://ip-192-168-1-94.eu-central-1.compute.internal:8042/node/containerlogs/container_1732639283265_3169_01_000001/livy\">Link</a></td><td>None</td><td></td></tr><tr><td>3231</td><td>application_1732639283265_3187</td><td>pyspark</td><td>idle</td><td><a target=\"_blank\" href=\"http://ip-192-168-1-36.eu-central-1.compute.internal:20888/proxy/application_1732639283265_3187/\">Link</a></td><td><a target=\"_blank\" href=\"http://ip-192-168-1-80.eu-central-1.compute.internal:8042/node/containerlogs/container_1732639283265_3187_01_000001/livy\">Link</a></td><td>None</td><td></td></tr><tr><td>3235</td><td>application_1732639283265_3191</td><td>pyspark</td><td>idle</td><td><a target=\"_blank\" href=\"http://ip-192-168-1-36.eu-central-1.compute.internal:20888/proxy/application_1732639283265_3191/\">Link</a></td><td><a target=\"_blank\" href=\"http://ip-192-168-1-203.eu-central-1.compute.internal:8042/node/containerlogs/container_1732639283265_3191_01_000001/livy\">Link</a></td><td>None</td><td></td></tr><tr><td>3237</td><td>application_1732639283265_3193</td><td>pyspark</td><td>idle</td><td><a target=\"_blank\" href=\"http://ip-192-168-1-36.eu-central-1.compute.internal:20888/proxy/application_1732639283265_3193/\">Link</a></td><td><a target=\"_blank\" href=\"http://ip-192-168-1-80.eu-central-1.compute.internal:8042/node/containerlogs/container_1732639283265_3193_01_000001/livy\">Link</a></td><td>None</td><td></td></tr><tr><td>3244</td><td>application_1732639283265_3200</td><td>pyspark</td><td>busy</td><td><a target=\"_blank\" href=\"http://ip-192-168-1-36.eu-central-1.compute.internal:20888/proxy/application_1732639283265_3200/\">Link</a></td><td><a target=\"_blank\" href=\"http://ip-192-168-1-174.eu-central-1.compute.internal:8042/node/containerlogs/container_1732639283265_3200_01_000001/livy\">Link</a></td><td>None</td><td></td></tr><tr><td>3275</td><td>application_1732639283265_3231</td><td>pyspark</td><td>idle</td><td><a target=\"_blank\" href=\"http://ip-192-168-1-36.eu-central-1.compute.internal:20888/proxy/application_1732639283265_3231/\">Link</a></td><td><a target=\"_blank\" href=\"http://ip-192-168-1-117.eu-central-1.compute.internal:8042/node/containerlogs/container_1732639283265_3231_01_000001/livy\">Link</a></td><td>None</td><td></td></tr></table>"
      ],
      "text/plain": [
       "<IPython.core.display.HTML object>"
      ]
     },
     "metadata": {},
     "output_type": "display_data"
    }
   ],
   "source": [
    "%%configure -f\n",
    "{\n",
    "    \"conf\": {\n",
    "        \"spark.executor.instances\": \"4\"\n",
    "    }\n",
    "}"
   ]
  },
  {
   "cell_type": "code",
   "execution_count": 2,
   "id": "73ec0866-3f4d-4834-a8a5-aaa4aef34342",
   "metadata": {
    "tags": []
   },
   "outputs": [
    {
     "name": "stdout",
     "output_type": "stream",
     "text": [
      "Starting Spark application\n"
     ]
    },
    {
     "data": {
      "text/html": [
       "<table>\n",
       "<tr><th>ID</th><th>YARN Application ID</th><th>Kind</th><th>State</th><th>Spark UI</th><th>Driver log</th><th>User</th><th>Current session?</th></tr><tr><td>3276</td><td>application_1732639283265_3232</td><td>pyspark</td><td>idle</td><td><a target=\"_blank\" href=\"http://ip-192-168-1-36.eu-central-1.compute.internal:20888/proxy/application_1732639283265_3232/\">Link</a></td><td><a target=\"_blank\" href=\"http://ip-192-168-1-203.eu-central-1.compute.internal:8042/node/containerlogs/container_1732639283265_3232_01_000001/livy\">Link</a></td><td>None</td><td>✔</td></tr></table>"
      ],
      "text/plain": [
       "<IPython.core.display.HTML object>"
      ]
     },
     "metadata": {},
     "output_type": "display_data"
    },
    {
     "data": {
      "application/vnd.jupyter.widget-view+json": {
       "model_id": "",
       "version_major": 2,
       "version_minor": 0
      },
      "text/plain": [
       "FloatProgress(value=0.0, bar_style='info', description='Progress:', layout=Layout(height='25px', width='50%'),…"
      ]
     },
     "metadata": {},
     "output_type": "display_data"
    },
    {
     "name": "stdout",
     "output_type": "stream",
     "text": [
      "SparkSession available as 'spark'.\n"
     ]
    },
    {
     "data": {
      "application/vnd.jupyter.widget-view+json": {
       "model_id": "",
       "version_major": 2,
       "version_minor": 0
      },
      "text/plain": [
       "FloatProgress(value=0.0, bar_style='info', description='Progress:', layout=Layout(height='25px', width='50%'),…"
      ]
     },
     "metadata": {},
     "output_type": "display_data"
    },
    {
     "name": "stdout",
     "output_type": "stream",
     "text": [
      "Executor Instances: 4\n",
      "Executor Memory: 4743M\n",
      "Executor Cores: 2\n",
      "+------------+------+\n",
      "|       group| count|\n",
      "+------------+------+\n",
      "|      Adults|121093|\n",
      "|    Children| 10830|\n",
      "|     Elderly|  5985|\n",
      "|Young Adults| 33605|\n",
      "+------------+------+"
     ]
    }
   ],
   "source": [
    "# Spark Dataframe code\n",
    "from pyspark.sql import SparkSession,Row\n",
    "from pyspark.sql.functions import col,udf,when\n",
    "from pyspark.sql.types import StringType\n",
    "import time\n",
    "results = []\n",
    "\n",
    "\n",
    "spark = SparkSession.builder.appName(\"Query 1 DF\").getOrCreate()\n",
    "conf = spark.sparkContext.getConf()\n",
    "\n",
    "# Print relevant executor settings\n",
    "print(\"Executor Instances:\", conf.get(\"spark.executor.instances\"))\n",
    "print(\"Executor Memory:\", conf.get(\"spark.executor.memory\"))\n",
    "print(\"Executor Cores:\", conf.get(\"spark.executor.cores\"))\n",
    "\n",
    "spark.catalog.clearCache()\n",
    "csv_files = [\n",
    "    \"s3://initial-notebook-data-bucket-dblab-905418150721/CrimeData/Crime_Data_from_2020_to_Present_20241101.csv\",\n",
    "    \"s3://initial-notebook-data-bucket-dblab-905418150721/CrimeData/Crime_Data_from_2010_to_2019_20241101.csv\"\n",
    "]\n",
    "#read the dataset and perform filtering\n",
    "crime_data_df = spark.read.csv(csv_files, header=True, inferSchema=True)\n",
    "start_time = time.time()\n",
    "selected_columns_df = crime_data_df.select(col(\"Vict Age\").cast(\"int\"),\"Crm Cd Desc\")\n",
    "filtered_df = selected_columns_df.filter(\n",
    "    (col(\"Vict Age\") > 0) & \n",
    "    (col(\"Crm Cd Desc\").contains(\"AGGRAVATED ASSAULT\"))\n",
    ")\n",
    "#categorize by age\n",
    "filtered_df.withColumn(\n",
    "    \"group\",\n",
    "    when(col(\"Vict Age\") < 18, \"Children\")\n",
    "    .when(col(\"Vict Age\") < 25, \"Young Adults\")\n",
    "    .when(col(\"Vict Age\") < 65, \"Adults\")\n",
    "    .otherwise(\"Elderly\")\n",
    ").groupBy(\"group\").count().show()\n",
    "end_time = time.time()\n",
    "results.append(Row(\n",
    "            Data_Abstractions=\"Dataframe\",\n",
    "            Execution_Time=end_time - start_time\n",
    "        ))\n",
    "results_df = spark.createDataFrame(results)\n",
    "# Save the DataFrame to S3 as JSON, we save the results because we restart the kernel in every execution\n",
    "results_df.write.mode(\"append\").json(\"s3://groups-bucket-dblab-905418150721/group45/q1/results.json\")\n"
   ]
  },
  {
   "cell_type": "code",
   "execution_count": 3,
   "id": "240b039d-3917-4e34-9809-b7b605eba039",
   "metadata": {
    "tags": []
   },
   "outputs": [
    {
     "data": {
      "application/vnd.jupyter.widget-view+json": {
       "model_id": "",
       "version_major": 2,
       "version_minor": 0
      },
      "text/plain": [
       "FloatProgress(value=0.0, bar_style='info', description='Progress:', layout=Layout(height='25px', width='50%'),…"
      ]
     },
     "metadata": {},
     "output_type": "display_data"
    },
    {
     "name": "stdout",
     "output_type": "stream",
     "text": [
      "+-----------------+-----------------+\n",
      "|Data_Abstractions|   Execution_Time|\n",
      "+-----------------+-----------------+\n",
      "|        Dataframe|5.989339351654053|\n",
      "|              RDD|7.777620315551758|\n",
      "+-----------------+-----------------+"
     ]
    }
   ],
   "source": [
    "# execute this after you run RDD file first and the file after that. Remember to restart the kernel\n",
    "spark.read.json(\"s3://groups-bucket-dblab-905418150721/group45/q1/results.json\").show()\n"
   ]
  },
  {
   "cell_type": "code",
   "execution_count": null,
   "id": "35b5a594-441c-4055-a0c2-f3d87d5925d1",
   "metadata": {},
   "outputs": [],
   "source": []
  }
 ],
 "metadata": {
  "kernelspec": {
   "display_name": "Sparkmagic (PySpark)",
   "language": "python",
   "name": "pysparkkernel"
  },
  "language_info": {
   "codemirror_mode": {
    "name": "python",
    "version": 3
   },
   "file_extension": ".py",
   "mimetype": "text/x-python",
   "name": "pyspark",
   "pygments_lexer": "python3"
  }
 },
 "nbformat": 4,
 "nbformat_minor": 5
}
