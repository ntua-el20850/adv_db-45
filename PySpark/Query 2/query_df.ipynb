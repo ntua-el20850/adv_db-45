{
 "cells": [
  {
   "cell_type": "code",
   "execution_count": 1,
   "id": "f3ad5209-f7dd-4923-a686-0b41109f8743",
   "metadata": {
    "tags": []
   },
   "outputs": [
    {
     "name": "stdout",
     "output_type": "stream",
     "text": [
      "Starting Spark application\n"
     ]
    },
    {
     "data": {
      "text/html": [
       "<table>\n",
       "<tr><th>ID</th><th>YARN Application ID</th><th>Kind</th><th>State</th><th>Spark UI</th><th>Driver log</th><th>User</th><th>Current session?</th></tr><tr><td>3231</td><td>application_1732639283265_3187</td><td>pyspark</td><td>idle</td><td><a target=\"_blank\" href=\"http://ip-192-168-1-36.eu-central-1.compute.internal:20888/proxy/application_1732639283265_3187/\">Link</a></td><td><a target=\"_blank\" href=\"http://ip-192-168-1-80.eu-central-1.compute.internal:8042/node/containerlogs/container_1732639283265_3187_01_000001/livy\">Link</a></td><td>None</td><td>✔</td></tr></table>"
      ],
      "text/plain": [
       "<IPython.core.display.HTML object>"
      ]
     },
     "metadata": {},
     "output_type": "display_data"
    },
    {
     "data": {
      "application/vnd.jupyter.widget-view+json": {
       "model_id": "",
       "version_major": 2,
       "version_minor": 0
      },
      "text/plain": [
       "FloatProgress(value=0.0, bar_style='info', description='Progress:', layout=Layout(height='25px', width='50%'),…"
      ]
     },
     "metadata": {},
     "output_type": "display_data"
    },
    {
     "name": "stdout",
     "output_type": "stream",
     "text": [
      "SparkSession available as 'spark'.\n"
     ]
    },
    {
     "data": {
      "application/vnd.jupyter.widget-view+json": {
       "model_id": "",
       "version_major": 2,
       "version_minor": 0
      },
      "text/plain": [
       "FloatProgress(value=0.0, bar_style='info', description='Progress:', layout=Layout(height='25px', width='50%'),…"
      ]
     },
     "metadata": {},
     "output_type": "display_data"
    },
    {
     "name": "stdout",
     "output_type": "stream",
     "text": [
      "Executor Instances: None\n",
      "Executor Memory: 4743M\n",
      "Executor Cores: 2\n",
      "+----+-----------+---------+----+\n",
      "|Year|  AREA NAME|     Rate|rank|\n",
      "+----+-----------+---------+----+\n",
      "|2010|    Rampart|32.847134|   1|\n",
      "|2010|    Olympic| 31.51529|   2|\n",
      "|2010|     Harbor|29.360283|   3|\n",
      "|2011|    Olympic|35.040062|   1|\n",
      "|2011|    Rampart| 32.49645|   2|\n",
      "|2011|     Harbor|28.513363|   3|\n",
      "|2012|    Olympic|34.297085|   1|\n",
      "|2012|    Rampart|32.460003|   2|\n",
      "|2012|     Harbor|29.509586|   3|\n",
      "|2013|    Olympic| 33.58218|   1|\n",
      "|2013|    Rampart|32.106037|   2|\n",
      "|2013|     Harbor|29.723639|   3|\n",
      "|2014|   Van Nuys|32.021523|   1|\n",
      "|2014|West Valley|31.497547|   2|\n",
      "|2014|    Mission| 31.22494|   3|\n",
      "|2015|   Van Nuys| 32.26514|   1|\n",
      "|2015|    Mission|30.463762|   2|\n",
      "|2015|   Foothill|30.353003|   3|\n",
      "|2016|   Van Nuys| 32.19452|   1|\n",
      "|2016|West Valley|31.401464|   2|\n",
      "+----+-----------+---------+----+\n",
      "only showing top 20 rows"
     ]
    }
   ],
   "source": [
    "## Solution using Dataframe\n",
    "from pyspark.sql import SparkSession,Row\n",
    "from pyspark.sql.functions import when, rank,col, count,date_format, to_timestamp,udf\n",
    "from pyspark.sql.types import FloatType\n",
    "from pyspark.sql.window import Window\n",
    "import time\n",
    "spark = SparkSession.builder.appName(\"Query 2 DF\").getOrCreate()\n",
    "results = []\n",
    "conf = spark.sparkContext.getConf()\n",
    "\n",
    "# Print relevant executor settings\n",
    "print(\"Executor Instances:\", conf.get(\"spark.executor.instances\"))\n",
    "print(\"Executor Memory:\", conf.get(\"spark.executor.memory\"))\n",
    "print(\"Executor Cores:\", conf.get(\"spark.executor.cores\"))\n",
    "csv_files = [\n",
    "    \"s3://initial-notebook-data-bucket-dblab-905418150721/CrimeData/Crime_Data_from_2020_to_Present_20241101.csv\",\n",
    "    \"s3://initial-notebook-data-bucket-dblab-905418150721/CrimeData/Crime_Data_from_2010_to_2019_20241101.csv\"\n",
    "]\n",
    "# Start timing before read in order to capture read time\n",
    "spark.catalog.clearCache()\n",
    "start_time = time.time()\n",
    "crime_data_df = spark.read.csv(csv_files, header=True, inferSchema=True)\n",
    "read_time = time.time()\n",
    "\n",
    "\n",
    "selected_columns = crime_data_df.select(\"AREA NAME\",\"Status Desc\",\"DATE OCC\" )\n",
    "# foramt the dataset and categorize crimes \n",
    "crime_data_with_year = selected_columns.withColumn(\n",
    "    \"Year\",\n",
    "    date_format(to_timestamp(col(\"Date Occ\"), \"MM/dd/yyyy hh:mm:ss a\"), \"yyyy\")\n",
    ").select(\"Year\",\"AREA NAME\",\"Status Desc\")\n",
    "categorized_df = crime_data_with_year.withColumn(\n",
    "    \"Case Status\",\n",
    "    when(col(\"Status Desc\").isin(\"UNK\", \"Invest Cont\"), \"Open\").otherwise(\"Closed\")\n",
    ")\n",
    "#count the number of crimes for each category\n",
    "list_categorized_df = categorized_df.groupby(\"AREA NAME\",\"Year\").agg(\n",
    "        count(when(col(\"Case Status\") == \"Closed\", 1)).alias(\"Closed\"),\n",
    "        count(when(col(\"Case Status\") == \"Open\", 1)).alias(\"Open\")\n",
    ")\n",
    "\n",
    "#define udf, in order to count closed rate. It is not strictly necessary \n",
    "#but we used a udf to try a different implementation\n",
    "def closed_rate(closed,still_open):\n",
    "      return 100*closed/(closed+still_open)\n",
    "\n",
    "\n",
    "closed_rate_udf = udf(closed_rate, FloatType())\n",
    "crime_data_with_rate = list_categorized_df.withColumn(\n",
    "     \"Rate\",\n",
    "     closed_rate_udf(col(\"Closed\"),col(\"Open\"))\n",
    ").select(\"Year\",\"AREA NAME\",\"Rate\")\n",
    "\n",
    "\n",
    "# Define a window specification to rank rows within each AREA NAME and Year\n",
    "window_spec = Window.partitionBy(\"Year\").orderBy(col(\"Rate\").desc())\n",
    "\n",
    "# Add a rank column to the dataframe\n",
    "top_3_rates_df = crime_data_with_rate.withColumn(\"rank\", rank().over(window_spec)).filter(col(\"rank\") <= 3).orderBy(\"Year\")\n",
    "top_3_rates_df.collect()\n",
    "end_time = time.time()\n",
    "results.append(Row(\n",
    "            API=\"Dataframe\",\n",
    "            File_Format=\"CSV\",\n",
    "            Read_time=read_time-start_time,\n",
    "            Execution_Time=end_time-read_time,\n",
    "            Total_time=end_time-start_time\n",
    "        ))\n",
    "top_3_rates_df.show()\n",
    "results_df = spark.createDataFrame(results)\n",
    "\n",
    "# Save the DataFrame to S3 as JSON\n",
    "results_df.write.mode(\"overwrite\").json(\"s3://groups-bucket-dblab-905418150721/group45/q2/results.json\")\n"
   ]
  },
  {
   "cell_type": "code",
   "execution_count": null,
   "id": "fd84130b-973f-425e-9e8e-2c4b96ab7b6a",
   "metadata": {},
   "outputs": [],
   "source": []
  }
 ],
 "metadata": {
  "kernelspec": {
   "display_name": "Sparkmagic (PySpark)",
   "language": "python",
   "name": "pysparkkernel"
  },
  "language_info": {
   "codemirror_mode": {
    "name": "python",
    "version": 3
   },
   "file_extension": ".py",
   "mimetype": "text/x-python",
   "name": "pyspark",
   "pygments_lexer": "python3"
  }
 },
 "nbformat": 4,
 "nbformat_minor": 5
}
