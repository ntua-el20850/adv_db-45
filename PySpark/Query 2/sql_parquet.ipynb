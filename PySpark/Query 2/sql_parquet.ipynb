{
 "cells": [
  {
   "cell_type": "code",
   "execution_count": 1,
   "id": "a823cbf1-fec2-4377-b420-678ec245ed41",
   "metadata": {},
   "outputs": [
    {
     "name": "stdout",
     "output_type": "stream",
     "text": [
      "Starting Spark application\n"
     ]
    },
    {
     "data": {
      "text/html": [
       "<table>\n",
       "<tr><th>ID</th><th>YARN Application ID</th><th>Kind</th><th>State</th><th>Spark UI</th><th>Driver log</th><th>User</th><th>Current session?</th></tr><tr><td>3237</td><td>application_1732639283265_3193</td><td>pyspark</td><td>idle</td><td><a target=\"_blank\" href=\"http://ip-192-168-1-36.eu-central-1.compute.internal:20888/proxy/application_1732639283265_3193/\">Link</a></td><td><a target=\"_blank\" href=\"http://ip-192-168-1-80.eu-central-1.compute.internal:8042/node/containerlogs/container_1732639283265_3193_01_000001/livy\">Link</a></td><td>None</td><td>✔</td></tr></table>"
      ],
      "text/plain": [
       "<IPython.core.display.HTML object>"
      ]
     },
     "metadata": {},
     "output_type": "display_data"
    },
    {
     "data": {
      "application/vnd.jupyter.widget-view+json": {
       "model_id": "",
       "version_major": 2,
       "version_minor": 0
      },
      "text/plain": [
       "FloatProgress(value=0.0, bar_style='info', description='Progress:', layout=Layout(height='25px', width='50%'),…"
      ]
     },
     "metadata": {},
     "output_type": "display_data"
    },
    {
     "name": "stdout",
     "output_type": "stream",
     "text": [
      "SparkSession available as 'spark'.\n"
     ]
    },
    {
     "data": {
      "application/vnd.jupyter.widget-view+json": {
       "model_id": "",
       "version_major": 2,
       "version_minor": 0
      },
      "text/plain": [
       "FloatProgress(value=0.0, bar_style='info', description='Progress:', layout=Layout(height='25px', width='50%'),…"
      ]
     },
     "metadata": {},
     "output_type": "display_data"
    },
    {
     "name": "stdout",
     "output_type": "stream",
     "text": [
      "Executor Instances: None\n",
      "Executor Memory: 4743M\n",
      "Executor Cores: 2\n",
      "+----+-----------+------------------+----+\n",
      "|year|  area name|              rate|rank|\n",
      "+----+-----------+------------------+----+\n",
      "|2010|    Rampart| 32.84713448949121|   1|\n",
      "|2010|    Olympic|31.515289821999087|   2|\n",
      "|2010|     Harbor| 29.36028339237341|   3|\n",
      "|2011|    Olympic|  35.0400600901352|   1|\n",
      "|2011|    Rampart|32.496447181430604|   2|\n",
      "|2011|     Harbor|28.513362463164313|   3|\n",
      "|2012|    Olympic| 34.29708533302119|   1|\n",
      "|2012|    Rampart| 32.46000463714352|   2|\n",
      "|2012|     Harbor| 29.50958584895668|   3|\n",
      "|2013|    Olympic| 33.58217940999398|   1|\n",
      "|2013|    Rampart|  32.1060382916053|   2|\n",
      "|2013|     Harbor|29.723638951488553|   3|\n",
      "|2014|   Van Nuys|  32.0215235281705|   1|\n",
      "|2014|West Valley| 31.49754809505847|   2|\n",
      "|2014|    Mission| 31.22493985565357|   3|\n",
      "|2015|   Van Nuys|32.265140677157845|   1|\n",
      "|2015|    Mission|30.463762673676303|   2|\n",
      "|2015|   Foothill|30.353001803658852|   3|\n",
      "|2016|   Van Nuys|32.194518462124094|   1|\n",
      "|2016|West Valley| 31.40146437042384|   2|\n",
      "+----+-----------+------------------+----+\n",
      "only showing top 20 rows"
     ]
    }
   ],
   "source": [
    "# Solution using parquet and SQL\n",
    "from pyspark.sql import SparkSession,Row\n",
    "from pyspark.sql.functions import date_format, to_timestamp\n",
    "from pyspark.sql.functions import when, col, count\n",
    "from pyspark.sql.types import FloatType\n",
    "\n",
    "import time\n",
    "parquet_path = \"s3://groups-bucket-dblab-905418150721/group45/single_file\"\n",
    "results = []\n",
    "\n",
    "spark = SparkSession.builder.appName(\"query 2 parquet and sql\").getOrCreate()\n",
    "conf = spark.sparkContext.getConf()\n",
    "\n",
    "# Print relevant executor settings\n",
    "print(\"Executor Instances:\", conf.get(\"spark.executor.instances\"))\n",
    "print(\"Executor Memory:\", conf.get(\"spark.executor.memory\"))\n",
    "print(\"Executor Cores:\", conf.get(\"spark.executor.cores\"))\n",
    "# Start timing\n",
    "spark.catalog.clearCache()\n",
    "start_time = time.time()\n",
    "\n",
    "crime_data_df = spark.read.parquet(parquet_path,header=True, inferSchema=True)\n",
    "#inferSchema is not really needed but it is used to stop lazily evaluation\n",
    "#the code from here is the same as SQL_csv\n",
    "read_time = time.time()\n",
    "\n",
    "crime_data_df.createOrReplaceTempView(\"crime_data\")\n",
    "\n",
    "\n",
    "select_query = \"\"\"\n",
    "                with base_data as (\n",
    "                    select \n",
    "                        date_format(to_timestamp(`date occ`, 'MM/dd/yyyy hh:mm:ss a'), 'yyyy') as year,\n",
    "                        `area name`,\n",
    "                        count(case when `status desc` in ('UNK', 'Invest Cont') then 1 end) as open,\n",
    "                        count(case when `status desc` not in ('UNK', 'Invest Cont') then 1 end) as closed,\n",
    "                        (100 * count(case when `status desc` not in ('UNK', 'Invest Cont') then 1 end) / \n",
    "                         (count(case when `status desc` in ('UNK', 'Invest Cont') then 1 end) + \n",
    "                          count(case when `status desc` not in ('UNK', 'Invest Cont') then 1 end))) as rate\n",
    "                    from crime_data\n",
    "                    group by `area name`, year\n",
    "                ),\n",
    "                ranked_data as (\n",
    "                    select \n",
    "                        `area name`,\n",
    "                        year,\n",
    "                        rate,\n",
    "                        rank() over(partition by year order by rate desc) as rank\n",
    "                    from base_data\n",
    "                )\n",
    "                select \n",
    "                    year,\n",
    "                    `area name`,\n",
    "                    rate,\n",
    "                    rank\n",
    "                from ranked_data\n",
    "                where rank < 4\n",
    "                order by year, rank\n",
    "            \"\"\"\n",
    "\n",
    "\n",
    "# Execute the query\n",
    "crime_data_with_year = spark.sql(select_query)\n",
    "\n",
    "crime_data_with_year.collect()\n",
    "end_time = time.time()\n",
    "\n",
    "\n",
    "# End timing\n",
    "results.append(Row(\n",
    "            API=\"SQL\",\n",
    "            File_Format=\"Parquet\",\n",
    "            Read_time=read_time-start_time,\n",
    "            Execution_Time=end_time-read_time,\n",
    "            Total_time= end_time-start_time\n",
    "        ))\n",
    "results_df = spark.createDataFrame(results)\n",
    "\n",
    "# Save the DataFrame to S3 as JSON\n",
    "results_df.write.mode(\"append\").json(\"s3://groups-bucket-dblab-905418150721/group45/q2/results.json\")\n",
    "\n",
    "crime_data_with_year.show()"
   ]
  },
  {
   "cell_type": "code",
   "execution_count": 5,
   "id": "e75922a4-580a-4c33-b62f-97075a541c85",
   "metadata": {},
   "outputs": [
    {
     "data": {
      "application/vnd.jupyter.widget-view+json": {
       "model_id": "",
       "version_major": 2,
       "version_minor": 0
      },
      "text/plain": [
       "FloatProgress(value=0.0, bar_style='info', description='Progress:', layout=Layout(height='25px', width='50%'),…"
      ]
     },
     "metadata": {},
     "output_type": "display_data"
    },
    {
     "name": "stdout",
     "output_type": "stream",
     "text": [
      "+---------+-----------+---------+--------------+----------+\n",
      "|      API|File_Format|Read_time|Execution_Time|Total_time|\n",
      "+---------+-----------+---------+--------------+----------+\n",
      "|Dataframe|        CSV|   17.656|        12.201|    29.857|\n",
      "|      SQL|    Parquet|    5.730|        12.051|    17.781|\n",
      "|      SQL|        CSV|   18.664|         8.087|    26.751|\n",
      "+---------+-----------+---------+--------------+----------+"
     ]
    }
   ],
   "source": [
    "#get the results for question 2 b and a combined\n",
    "#we keep only three decimal points for the time measurments\n",
    "from pyspark.sql.functions import col, format_number\n",
    "results_df = spark.read.json(\"s3://groups-bucket-dblab-905418150721/group45/q2/results.json\")\n",
    "results_df.select(\n",
    "    col(\"API\"),\n",
    "    col(\"File_Format\"),\n",
    "    format_number(col(\"Read_time\"), 3).alias(\"Read_time\"),\n",
    "    format_number(col(\"Execution_Time\"), 3).alias(\"Execution_Time\"),\n",
    "    format_number(col(\"Total_time\"), 3).alias(\"Total_time\")\n",
    ").show()"
   ]
  },
  {
   "cell_type": "code",
   "execution_count": 6,
   "id": "b60e23a0-f5d5-434f-b48e-0a8f606805ca",
   "metadata": {
    "tags": []
   },
   "outputs": [
    {
     "data": {
      "application/vnd.jupyter.widget-view+json": {
       "model_id": "",
       "version_major": 2,
       "version_minor": 0
      },
      "text/plain": [
       "FloatProgress(value=0.0, bar_style='info', description='Progress:', layout=Layout(height='25px', width='50%'),…"
      ]
     },
     "metadata": {},
     "output_type": "display_data"
    },
    {
     "name": "stdout",
     "output_type": "stream",
     "text": [
      "+---------+-----------+---------+--------------+----------+\n",
      "|      API|File_Format|Read_time|Execution_Time|Total_time|\n",
      "+---------+-----------+---------+--------------+----------+\n",
      "|Dataframe|        CSV|   17.656|        12.201|    29.857|\n",
      "|      SQL|        CSV|   18.664|         8.087|    26.751|\n",
      "+---------+-----------+---------+--------------+----------+"
     ]
    }
   ],
   "source": [
    "#get the results for question 2 a\n",
    "results_df.select(\n",
    "    col(\"API\"),\n",
    "    col(\"File_Format\"),\n",
    "    format_number(col(\"Read_time\"), 3).alias(\"Read_time\"),\n",
    "    format_number(col(\"Execution_Time\"), 3).alias(\"Execution_Time\"),\n",
    "    format_number(col(\"Total_time\"), 3).alias(\"Total_time\")\n",
    ").filter(col(\"File_Format\")==\"CSV\").show()"
   ]
  },
  {
   "cell_type": "code",
   "execution_count": null,
   "id": "7f548b47-549e-452a-8073-5019017ed6b3",
   "metadata": {},
   "outputs": [],
   "source": []
  }
 ],
 "metadata": {
  "kernelspec": {
   "display_name": "Sparkmagic (PySpark)",
   "language": "python",
   "name": "pysparkkernel"
  },
  "language_info": {
   "codemirror_mode": {
    "name": "python",
    "version": 3
   },
   "file_extension": ".py",
   "mimetype": "text/x-python",
   "name": "pyspark",
   "pygments_lexer": "python3"
  }
 },
 "nbformat": 4,
 "nbformat_minor": 5
}
