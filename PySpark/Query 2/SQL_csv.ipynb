{
 "cells": [
  {
   "cell_type": "code",
   "execution_count": 1,
   "id": "1fa0b344-da1d-4931-9229-b6b5e23549ff",
   "metadata": {},
   "outputs": [
    {
     "name": "stdout",
     "output_type": "stream",
     "text": [
      "Starting Spark application\n"
     ]
    },
    {
     "data": {
      "text/html": [
       "<table>\n",
       "<tr><th>ID</th><th>YARN Application ID</th><th>Kind</th><th>State</th><th>Spark UI</th><th>Driver log</th><th>User</th><th>Current session?</th></tr><tr><td>3235</td><td>application_1732639283265_3191</td><td>pyspark</td><td>idle</td><td><a target=\"_blank\" href=\"http://ip-192-168-1-36.eu-central-1.compute.internal:20888/proxy/application_1732639283265_3191/\">Link</a></td><td><a target=\"_blank\" href=\"http://ip-192-168-1-203.eu-central-1.compute.internal:8042/node/containerlogs/container_1732639283265_3191_01_000001/livy\">Link</a></td><td>None</td><td>✔</td></tr></table>"
      ],
      "text/plain": [
       "<IPython.core.display.HTML object>"
      ]
     },
     "metadata": {},
     "output_type": "display_data"
    },
    {
     "data": {
      "application/vnd.jupyter.widget-view+json": {
       "model_id": "",
       "version_major": 2,
       "version_minor": 0
      },
      "text/plain": [
       "FloatProgress(value=0.0, bar_style='info', description='Progress:', layout=Layout(height='25px', width='50%'),…"
      ]
     },
     "metadata": {},
     "output_type": "display_data"
    },
    {
     "name": "stdout",
     "output_type": "stream",
     "text": [
      "SparkSession available as 'spark'.\n"
     ]
    },
    {
     "data": {
      "application/vnd.jupyter.widget-view+json": {
       "model_id": "",
       "version_major": 2,
       "version_minor": 0
      },
      "text/plain": [
       "FloatProgress(value=0.0, bar_style='info', description='Progress:', layout=Layout(height='25px', width='50%'),…"
      ]
     },
     "metadata": {},
     "output_type": "display_data"
    },
    {
     "name": "stdout",
     "output_type": "stream",
     "text": [
      "Executor Instances: None\n",
      "Executor Memory: 4743M\n",
      "Executor Cores: 2\n",
      "+----+-----------+------------------+----+\n",
      "|year|  area name|              rate|rank|\n",
      "+----+-----------+------------------+----+\n",
      "|2010|    Rampart| 32.84713448949121|   1|\n",
      "|2010|    Olympic|31.515289821999087|   2|\n",
      "|2010|     Harbor| 29.36028339237341|   3|\n",
      "|2011|    Olympic|  35.0400600901352|   1|\n",
      "|2011|    Rampart|32.496447181430604|   2|\n",
      "|2011|     Harbor|28.513362463164313|   3|\n",
      "|2012|    Olympic| 34.29708533302119|   1|\n",
      "|2012|    Rampart| 32.46000463714352|   2|\n",
      "|2012|     Harbor| 29.50958584895668|   3|\n",
      "|2013|    Olympic| 33.58217940999398|   1|\n",
      "|2013|    Rampart|  32.1060382916053|   2|\n",
      "|2013|     Harbor|29.723638951488553|   3|\n",
      "|2014|   Van Nuys|  32.0215235281705|   1|\n",
      "|2014|West Valley| 31.49754809505847|   2|\n",
      "|2014|    Mission| 31.22493985565357|   3|\n",
      "|2015|   Van Nuys|32.265140677157845|   1|\n",
      "|2015|    Mission|30.463762673676303|   2|\n",
      "|2015|   Foothill|30.353001803658852|   3|\n",
      "|2016|   Van Nuys|32.194518462124094|   1|\n",
      "|2016|West Valley| 31.40146437042384|   2|\n",
      "+----+-----------+------------------+----+\n",
      "only showing top 20 rows"
     ]
    }
   ],
   "source": [
    "## Solution using SQL\n",
    "from pyspark.sql import SparkSession,Row\n",
    "from pyspark.sql.functions import date_format, to_timestamp\n",
    "from pyspark.sql.functions import when, col, count\n",
    "from pyspark.sql.types import FloatType\n",
    "\n",
    "import time\n",
    "results = []\n",
    "spark = SparkSession.builder.appName(\"SQL query 2\").getOrCreate()\n",
    "spark.catalog.clearCache()\n",
    "\n",
    "conf = spark.sparkContext.getConf()\n",
    "\n",
    "# Print relevant executor settings\n",
    "print(\"Executor Instances:\", conf.get(\"spark.executor.instances\"))\n",
    "print(\"Executor Memory:\", conf.get(\"spark.executor.memory\"))\n",
    "print(\"Executor Cores:\", conf.get(\"spark.executor.cores\"))\n",
    "\n",
    "csv_files = [\n",
    "    \"s3://initial-notebook-data-bucket-dblab-905418150721/CrimeData/Crime_Data_from_2020_to_Present_20241101.csv\",\n",
    "    \"s3://initial-notebook-data-bucket-dblab-905418150721/CrimeData/Crime_Data_from_2010_to_2019_20241101.csv\"\n",
    "]\n",
    "# Start timing before read in order to capture read time\n",
    "spark.catalog.clearCache()\n",
    "start_time = time.time()\n",
    "\n",
    "crime_data_df = spark.read.csv(csv_files, header=True, inferSchema=True)\n",
    "read_time = time.time()\n",
    "\n",
    "crime_data_df.createOrReplaceTempView(\"crime_data\")\n",
    "\n",
    "# query that has the same effect as the dataframe code\n",
    "# in order to use intermediate results for simplicity we used the with as command\n",
    "select_query = \"\"\"\n",
    "                with base_data as (\n",
    "                    select \n",
    "                        date_format(to_timestamp(`date occ`, 'MM/dd/yyyy hh:mm:ss a'), 'yyyy') as year,\n",
    "                        `area name`,\n",
    "                        count(case when `status desc` in ('UNK', 'Invest Cont') then 1 end) as open,\n",
    "                        count(case when `status desc` not in ('UNK', 'Invest Cont') then 1 end) as closed,\n",
    "                        (100 * count(case when `status desc` not in ('UNK', 'Invest Cont') then 1 end) / \n",
    "                         (count(case when `status desc` in ('UNK', 'Invest Cont') then 1 end) + \n",
    "                          count(case when `status desc` not in ('UNK', 'Invest Cont') then 1 end))) as rate\n",
    "                    from crime_data\n",
    "                    group by `area name`, year\n",
    "                ),\n",
    "                ranked_data as (\n",
    "                    select \n",
    "                        `area name`,\n",
    "                        year,\n",
    "                        rate,\n",
    "                        rank() over(partition by year order by rate desc) as rank\n",
    "                    from base_data\n",
    "                )\n",
    "                select \n",
    "                    year,\n",
    "                    `area name`,\n",
    "                    rate,\n",
    "                    rank\n",
    "                from ranked_data\n",
    "                where rank < 4\n",
    "                order by year, rank\n",
    "            \"\"\"\n",
    "\n",
    "\n",
    "# Execute the query\n",
    "crime_data_with_year = spark.sql(select_query)\n",
    "\n",
    "crime_data_with_year.collect()\n",
    "# End timing\n",
    "end_time = time.time()\n",
    "results.append(Row(\n",
    "            API=\"SQL\",\n",
    "            File_Format=\"CSV\",\n",
    "            Read_time=read_time-start_time,\n",
    "            Execution_Time=end_time-read_time,\n",
    "            Total_time= end_time-start_time\n",
    "        ))\n",
    "crime_data_with_year.show()\n",
    "results_df = spark.createDataFrame(results)\n",
    "\n",
    "# Save the DataFrame to S3 as JSON\n",
    "results_df.write.mode(\"append\").json(\"s3://groups-bucket-dblab-905418150721/group45/q2/results.json\")\n"
   ]
  },
  {
   "cell_type": "code",
   "execution_count": null,
   "id": "d46d75b6-0a12-49a0-a6f0-aeb88848daa5",
   "metadata": {},
   "outputs": [],
   "source": [
    "# Convert to parquet\n",
    "csv_files = [\n",
    "    \"s3://initial-notebook-data-bucket-dblab-905418150721/CrimeData/Crime_Data_from_2020_to_Present_20241101.csv\",\n",
    "    \"s3://initial-notebook-data-bucket-dblab-905418150721/CrimeData/Crime_Data_from_2010_to_2019_20241101.csv\"\n",
    "]\n",
    "\n",
    "crime_data_df = spark.read.csv(csv_files, header=True, inferSchema=True)\n",
    "\n",
    "# Path to save the Parquet file\n",
    "parquet_path = \"s3://groups-bucket-dblab-905418150721/group45/single_file\"\n",
    "\n",
    "# Reduce to a single partition\n",
    "crime_data_df.coalesce(1).write.parquet(parquet_path, mode=\"overwrite\")\n",
    "\n"
   ]
  }
 ],
 "metadata": {
  "kernelspec": {
   "display_name": "Sparkmagic (PySpark)",
   "language": "python",
   "name": "pysparkkernel"
  },
  "language_info": {
   "codemirror_mode": {
    "name": "python",
    "version": 3
   },
   "file_extension": ".py",
   "mimetype": "text/x-python",
   "name": "pyspark",
   "pygments_lexer": "python3"
  }
 },
 "nbformat": 4,
 "nbformat_minor": 5
}
