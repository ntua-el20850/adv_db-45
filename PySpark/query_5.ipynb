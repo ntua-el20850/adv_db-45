{
 "cells": [
  {
   "cell_type": "code",
   "execution_count": 5,
   "id": "945bf7d0-34e3-49dc-936b-4df0459a4fba",
   "metadata": {},
   "outputs": [
    {
     "name": "stdout",
     "output_type": "stream",
     "text": [
      "Starting Spark application\n"
     ]
    },
    {
     "data": {
      "text/html": [
       "<table>\n",
       "<tr><th>ID</th><th>YARN Application ID</th><th>Kind</th><th>State</th><th>Spark UI</th><th>Driver log</th><th>User</th><th>Current session?</th></tr><tr><td>3082</td><td>application_1732639283265_3038</td><td>pyspark</td><td>idle</td><td><a target=\"_blank\" href=\"http://ip-192-168-1-36.eu-central-1.compute.internal:20888/proxy/application_1732639283265_3038/\">Link</a></td><td><a target=\"_blank\" href=\"http://ip-192-168-1-193.eu-central-1.compute.internal:8042/node/containerlogs/container_1732639283265_3038_01_000001/livy\">Link</a></td><td>None</td><td>✔</td></tr></table>"
      ],
      "text/plain": [
       "<IPython.core.display.HTML object>"
      ]
     },
     "metadata": {},
     "output_type": "display_data"
    },
    {
     "data": {
      "application/vnd.jupyter.widget-view+json": {
       "model_id": "",
       "version_major": 2,
       "version_minor": 0
      },
      "text/plain": [
       "FloatProgress(value=0.0, bar_style='info', description='Progress:', layout=Layout(height='25px', width='50%'),…"
      ]
     },
     "metadata": {},
     "output_type": "display_data"
    },
    {
     "name": "stdout",
     "output_type": "stream",
     "text": [
      "SparkSession available as 'spark'.\n"
     ]
    },
    {
     "data": {
      "text/html": [
       "Current session configs: <tt>{'conf': {'spark.sql.catalog.spark_catalog.type': 'hive', 'spark.executor.instances': '8', 'spark.executor.memory': '2g', 'spark.executor.cores': '1'}, 'kind': 'pyspark'}</tt><br>"
      ],
      "text/plain": [
       "<IPython.core.display.HTML object>"
      ]
     },
     "metadata": {},
     "output_type": "display_data"
    },
    {
     "data": {
      "text/html": [
       "<table>\n",
       "<tr><th>ID</th><th>YARN Application ID</th><th>Kind</th><th>State</th><th>Spark UI</th><th>Driver log</th><th>User</th><th>Current session?</th></tr><tr><td>2944</td><td>application_1732639283265_2903</td><td>pyspark</td><td>idle</td><td><a target=\"_blank\" href=\"http://ip-192-168-1-36.eu-central-1.compute.internal:20888/proxy/application_1732639283265_2903/\">Link</a></td><td><a target=\"_blank\" href=\"http://ip-192-168-1-166.eu-central-1.compute.internal:8042/node/containerlogs/container_1732639283265_2903_01_000001/livy\">Link</a></td><td>None</td><td></td></tr><tr><td>2966</td><td>application_1732639283265_2924</td><td>pyspark</td><td>idle</td><td><a target=\"_blank\" href=\"http://ip-192-168-1-36.eu-central-1.compute.internal:20888/proxy/application_1732639283265_2924/\">Link</a></td><td><a target=\"_blank\" href=\"http://ip-192-168-1-91.eu-central-1.compute.internal:8042/node/containerlogs/container_1732639283265_2924_01_000001/livy\">Link</a></td><td>None</td><td></td></tr><tr><td>2971</td><td>application_1732639283265_2929</td><td>pyspark</td><td>idle</td><td><a target=\"_blank\" href=\"http://ip-192-168-1-36.eu-central-1.compute.internal:20888/proxy/application_1732639283265_2929/\">Link</a></td><td><a target=\"_blank\" href=\"http://ip-192-168-1-166.eu-central-1.compute.internal:8042/node/containerlogs/container_1732639283265_2929_01_000001/livy\">Link</a></td><td>None</td><td></td></tr><tr><td>2975</td><td>application_1732639283265_2933</td><td>pyspark</td><td>idle</td><td><a target=\"_blank\" href=\"http://ip-192-168-1-36.eu-central-1.compute.internal:20888/proxy/application_1732639283265_2933/\">Link</a></td><td><a target=\"_blank\" href=\"http://ip-192-168-1-94.eu-central-1.compute.internal:8042/node/containerlogs/container_1732639283265_2933_01_000001/livy\">Link</a></td><td>None</td><td></td></tr><tr><td>2976</td><td>application_1732639283265_2934</td><td>pyspark</td><td>idle</td><td><a target=\"_blank\" href=\"http://ip-192-168-1-36.eu-central-1.compute.internal:20888/proxy/application_1732639283265_2934/\">Link</a></td><td><a target=\"_blank\" href=\"http://ip-192-168-1-203.eu-central-1.compute.internal:8042/node/containerlogs/container_1732639283265_2934_01_000001/livy\">Link</a></td><td>None</td><td></td></tr><tr><td>3000</td><td>application_1732639283265_2958</td><td>pyspark</td><td>idle</td><td><a target=\"_blank\" href=\"http://ip-192-168-1-36.eu-central-1.compute.internal:20888/proxy/application_1732639283265_2958/\">Link</a></td><td><a target=\"_blank\" href=\"http://ip-192-168-1-233.eu-central-1.compute.internal:8042/node/containerlogs/container_1732639283265_2958_01_000001/livy\">Link</a></td><td>None</td><td></td></tr><tr><td>3005</td><td>application_1732639283265_2963</td><td>pyspark</td><td>idle</td><td><a target=\"_blank\" href=\"http://ip-192-168-1-36.eu-central-1.compute.internal:20888/proxy/application_1732639283265_2963/\">Link</a></td><td><a target=\"_blank\" href=\"http://ip-192-168-1-233.eu-central-1.compute.internal:8042/node/containerlogs/container_1732639283265_2963_01_000002/livy\">Link</a></td><td>None</td><td></td></tr><tr><td>3010</td><td>application_1732639283265_2968</td><td>pyspark</td><td>idle</td><td><a target=\"_blank\" href=\"http://ip-192-168-1-36.eu-central-1.compute.internal:20888/proxy/application_1732639283265_2968/\">Link</a></td><td><a target=\"_blank\" href=\"http://ip-192-168-1-193.eu-central-1.compute.internal:8042/node/containerlogs/container_1732639283265_2968_01_000001/livy\">Link</a></td><td>None</td><td></td></tr><tr><td>3017</td><td>application_1732639283265_2975</td><td>pyspark</td><td>idle</td><td><a target=\"_blank\" href=\"http://ip-192-168-1-36.eu-central-1.compute.internal:20888/proxy/application_1732639283265_2975/\">Link</a></td><td><a target=\"_blank\" href=\"http://ip-192-168-1-119.eu-central-1.compute.internal:8042/node/containerlogs/container_1732639283265_2975_01_000001/livy\">Link</a></td><td>None</td><td></td></tr><tr><td>3019</td><td>application_1732639283265_2977</td><td>pyspark</td><td>idle</td><td><a target=\"_blank\" href=\"http://ip-192-168-1-36.eu-central-1.compute.internal:20888/proxy/application_1732639283265_2977/\">Link</a></td><td><a target=\"_blank\" href=\"http://ip-192-168-1-112.eu-central-1.compute.internal:8042/node/containerlogs/container_1732639283265_2977_01_000001/livy\">Link</a></td><td>None</td><td></td></tr><tr><td>3021</td><td>application_1732639283265_2979</td><td>pyspark</td><td>idle</td><td><a target=\"_blank\" href=\"http://ip-192-168-1-36.eu-central-1.compute.internal:20888/proxy/application_1732639283265_2979/\">Link</a></td><td><a target=\"_blank\" href=\"http://ip-192-168-1-203.eu-central-1.compute.internal:8042/node/containerlogs/container_1732639283265_2979_01_000001/livy\">Link</a></td><td>None</td><td></td></tr><tr><td>3028</td><td>application_1732639283265_2986</td><td>pyspark</td><td>idle</td><td><a target=\"_blank\" href=\"http://ip-192-168-1-36.eu-central-1.compute.internal:20888/proxy/application_1732639283265_2986/\">Link</a></td><td><a target=\"_blank\" href=\"http://ip-192-168-1-193.eu-central-1.compute.internal:8042/node/containerlogs/container_1732639283265_2986_01_000001/livy\">Link</a></td><td>None</td><td></td></tr><tr><td>3029</td><td>application_1732639283265_2987</td><td>pyspark</td><td>idle</td><td><a target=\"_blank\" href=\"http://ip-192-168-1-36.eu-central-1.compute.internal:20888/proxy/application_1732639283265_2987/\">Link</a></td><td><a target=\"_blank\" href=\"http://ip-192-168-1-203.eu-central-1.compute.internal:8042/node/containerlogs/container_1732639283265_2987_01_000002/livy\">Link</a></td><td>None</td><td></td></tr><tr><td>3035</td><td>application_1732639283265_2993</td><td>pyspark</td><td>idle</td><td><a target=\"_blank\" href=\"http://ip-192-168-1-36.eu-central-1.compute.internal:20888/proxy/application_1732639283265_2993/\">Link</a></td><td><a target=\"_blank\" href=\"http://ip-192-168-1-178.eu-central-1.compute.internal:8042/node/containerlogs/container_1732639283265_2993_01_000001/livy\">Link</a></td><td>None</td><td></td></tr><tr><td>3041</td><td>application_1732639283265_2999</td><td>pyspark</td><td>idle</td><td><a target=\"_blank\" href=\"http://ip-192-168-1-36.eu-central-1.compute.internal:20888/proxy/application_1732639283265_2999/\">Link</a></td><td><a target=\"_blank\" href=\"http://ip-192-168-1-227.eu-central-1.compute.internal:8042/node/containerlogs/container_1732639283265_2999_01_000001/livy\">Link</a></td><td>None</td><td></td></tr><tr><td>3044</td><td>application_1732639283265_3002</td><td>pyspark</td><td>idle</td><td><a target=\"_blank\" href=\"http://ip-192-168-1-36.eu-central-1.compute.internal:20888/proxy/application_1732639283265_3002/\">Link</a></td><td><a target=\"_blank\" href=\"http://ip-192-168-1-91.eu-central-1.compute.internal:8042/node/containerlogs/container_1732639283265_3002_01_000002/livy\">Link</a></td><td>None</td><td></td></tr><tr><td>3046</td><td>application_1732639283265_3004</td><td>pyspark</td><td>idle</td><td><a target=\"_blank\" href=\"http://ip-192-168-1-36.eu-central-1.compute.internal:20888/proxy/application_1732639283265_3004/\">Link</a></td><td><a target=\"_blank\" href=\"http://ip-192-168-1-227.eu-central-1.compute.internal:8042/node/containerlogs/container_1732639283265_3004_01_000001/livy\">Link</a></td><td>None</td><td></td></tr><tr><td>3052</td><td>application_1732639283265_3010</td><td>pyspark</td><td>idle</td><td><a target=\"_blank\" href=\"http://ip-192-168-1-36.eu-central-1.compute.internal:20888/proxy/application_1732639283265_3010/\">Link</a></td><td><a target=\"_blank\" href=\"http://ip-192-168-1-193.eu-central-1.compute.internal:8042/node/containerlogs/container_1732639283265_3010_01_000001/livy\">Link</a></td><td>None</td><td></td></tr><tr><td>3060</td><td>application_1732639283265_3018</td><td>pyspark</td><td>idle</td><td><a target=\"_blank\" href=\"http://ip-192-168-1-36.eu-central-1.compute.internal:20888/proxy/application_1732639283265_3018/\">Link</a></td><td><a target=\"_blank\" href=\"http://ip-192-168-1-166.eu-central-1.compute.internal:8042/node/containerlogs/container_1732639283265_3018_01_000001/livy\">Link</a></td><td>None</td><td></td></tr><tr><td>3070</td><td>application_1732639283265_3026</td><td>pyspark</td><td>idle</td><td><a target=\"_blank\" href=\"http://ip-192-168-1-36.eu-central-1.compute.internal:20888/proxy/application_1732639283265_3026/\">Link</a></td><td><a target=\"_blank\" href=\"http://ip-192-168-1-94.eu-central-1.compute.internal:8042/node/containerlogs/container_1732639283265_3026_01_000002/livy\">Link</a></td><td>None</td><td></td></tr><tr><td>3071</td><td>application_1732639283265_3027</td><td>pyspark</td><td>idle</td><td><a target=\"_blank\" href=\"http://ip-192-168-1-36.eu-central-1.compute.internal:20888/proxy/application_1732639283265_3027/\">Link</a></td><td><a target=\"_blank\" href=\"http://ip-192-168-1-203.eu-central-1.compute.internal:8042/node/containerlogs/container_1732639283265_3027_01_000001/livy\">Link</a></td><td>None</td><td></td></tr><tr><td>3072</td><td>application_1732639283265_3028</td><td>pyspark</td><td>idle</td><td><a target=\"_blank\" href=\"http://ip-192-168-1-36.eu-central-1.compute.internal:20888/proxy/application_1732639283265_3028/\">Link</a></td><td><a target=\"_blank\" href=\"http://ip-192-168-1-227.eu-central-1.compute.internal:8042/node/containerlogs/container_1732639283265_3028_01_000001/livy\">Link</a></td><td>None</td><td></td></tr><tr><td>3075</td><td>application_1732639283265_3031</td><td>pyspark</td><td>idle</td><td><a target=\"_blank\" href=\"http://ip-192-168-1-36.eu-central-1.compute.internal:20888/proxy/application_1732639283265_3031/\">Link</a></td><td><a target=\"_blank\" href=\"http://ip-192-168-1-16.eu-central-1.compute.internal:8042/node/containerlogs/container_1732639283265_3031_01_000001/livy\">Link</a></td><td>None</td><td></td></tr><tr><td>3077</td><td>application_1732639283265_3033</td><td>pyspark</td><td>idle</td><td><a target=\"_blank\" href=\"http://ip-192-168-1-36.eu-central-1.compute.internal:20888/proxy/application_1732639283265_3033/\">Link</a></td><td><a target=\"_blank\" href=\"http://ip-192-168-1-166.eu-central-1.compute.internal:8042/node/containerlogs/container_1732639283265_3033_01_000001/livy\">Link</a></td><td>None</td><td></td></tr><tr><td>3078</td><td>application_1732639283265_3034</td><td>pyspark</td><td>idle</td><td><a target=\"_blank\" href=\"http://ip-192-168-1-36.eu-central-1.compute.internal:20888/proxy/application_1732639283265_3034/\">Link</a></td><td><a target=\"_blank\" href=\"http://ip-192-168-1-233.eu-central-1.compute.internal:8042/node/containerlogs/container_1732639283265_3034_01_000002/livy\">Link</a></td><td>None</td><td></td></tr><tr><td>3079</td><td>application_1732639283265_3035</td><td>pyspark</td><td>idle</td><td><a target=\"_blank\" href=\"http://ip-192-168-1-36.eu-central-1.compute.internal:20888/proxy/application_1732639283265_3035/\">Link</a></td><td><a target=\"_blank\" href=\"http://ip-192-168-1-119.eu-central-1.compute.internal:8042/node/containerlogs/container_1732639283265_3035_01_000001/livy\">Link</a></td><td>None</td><td></td></tr><tr><td>3082</td><td>application_1732639283265_3038</td><td>pyspark</td><td>idle</td><td><a target=\"_blank\" href=\"http://ip-192-168-1-36.eu-central-1.compute.internal:20888/proxy/application_1732639283265_3038/\">Link</a></td><td><a target=\"_blank\" href=\"http://ip-192-168-1-193.eu-central-1.compute.internal:8042/node/containerlogs/container_1732639283265_3038_01_000001/livy\">Link</a></td><td>None</td><td>✔</td></tr></table>"
      ],
      "text/plain": [
       "<IPython.core.display.HTML object>"
      ]
     },
     "metadata": {},
     "output_type": "display_data"
    }
   ],
   "source": [
    "%%configure -f\n",
    "{\n",
    "    \"conf\": {\n",
    "        \"spark.executor.instances\": \"8\",\n",
    "        \"spark.executor.memory\": \"2g\",\n",
    "        \"spark.executor.cores\": \"1\"\n",
    "    }\n",
    "}"
   ]
  },
  {
   "cell_type": "code",
   "execution_count": 6,
   "id": "48350b81-49b6-4439-8e31-63e02c9d0838",
   "metadata": {
    "tags": []
   },
   "outputs": [
    {
     "data": {
      "application/vnd.jupyter.widget-view+json": {
       "model_id": "",
       "version_major": 2,
       "version_minor": 0
      },
      "text/plain": [
       "FloatProgress(value=0.0, bar_style='info', description='Progress:', layout=Layout(height='25px', width='50%'),…"
      ]
     },
     "metadata": {},
     "output_type": "display_data"
    },
    {
     "name": "stdout",
     "output_type": "stream",
     "text": [
      "Executor Instances: 8\n",
      "Executor Memory: 2g\n",
      "Executor Cores: 1\n",
      "Number of crimes in the start:  3109880\n",
      "Number of crimes in the end:  3109880\n",
      "+----------------+-------------------+-----------+\n",
      "|        Division|average_distance_km|crime_count|\n",
      "+----------------+-------------------+-----------+\n",
      "|       HOLLYWOOD|             2.0763|     224340|\n",
      "|        VAN NUYS|             2.9534|     210134|\n",
      "|       SOUTHWEST|             2.1914|     188901|\n",
      "|        WILSHIRE|             2.5927|     185996|\n",
      "|     77TH STREET|             1.7165|     171827|\n",
      "|         OLYMPIC|             1.7236|     170897|\n",
      "| NORTH HOLLYWOOD|             2.6430|     167854|\n",
      "|         PACIFIC|             3.8501|     161359|\n",
      "|         CENTRAL|             0.9925|     153871|\n",
      "|         RAMPART|             1.5345|     152736|\n",
      "|       SOUTHEAST|             2.4219|     152176|\n",
      "|     WEST VALLEY|             3.0357|     138643|\n",
      "|         TOPANGA|             3.2970|     138217|\n",
      "|        FOOTHILL|             4.2509|     134896|\n",
      "|          HARBOR|             3.7026|     126747|\n",
      "|      HOLLENBECK|             2.6802|     115837|\n",
      "|WEST LOS ANGELES|             2.7925|     115781|\n",
      "|          NEWTON|             1.6346|     111110|\n",
      "|       NORTHEAST|             3.6237|     108109|\n",
      "|         MISSION|             3.6909|     103355|\n",
      "+----------------+-------------------+-----------+\n",
      "only showing top 20 rows"
     ]
    }
   ],
   "source": [
    "from sedona.spark import *\n",
    "from pyspark.sql import SparkSession\n",
    "from pyspark.sql.functions import date_format,row_number, to_timestamp, round, format_number, concat, lit ,when, col, count , sum ,regexp_replace ,trim,udf,avg\n",
    "from pyspark.sql.types import FloatType,IntegerType,StringType\n",
    "from pyspark.sql.window import Window\n",
    "\n",
    "# To log our application's execution time:\n",
    "import time\n",
    "spark = SparkSession.builder.appName(\"Query 5 DF\").getOrCreate()\n",
    "spark.catalog.clearCache()\n",
    "conf = spark.sparkContext.getConf()\n",
    "sedona = SedonaContext.create(spark)\n",
    "\n",
    "\n",
    "results = []\n",
    "# Start timing\n",
    "csv_files = [\n",
    "    \"s3://initial-notebook-data-bucket-dblab-905418150721/CrimeData/Crime_Data_from_2020_to_Present_20241101.csv\",\n",
    "    \"s3://initial-notebook-data-bucket-dblab-905418150721/CrimeData/Crime_Data_from_2010_to_2019_20241101.csv\"\n",
    "]\n",
    "conf = spark.sparkContext.getConf()\n",
    "# Print relevant executor settings\n",
    "print(\"Executor Instances:\", conf.get(\"spark.executor.instances\"))\n",
    "print(\"Executor Memory:\", conf.get(\"spark.executor.memory\"))\n",
    "print(\"Executor Cores:\", conf.get(\"spark.executor.cores\"))\n",
    "\n",
    "start_time = time.time()\n",
    "#crime data\n",
    "crime_data_df = spark.read.csv(csv_files, header=True, inferSchema=True)\n",
    "# create an ST point for each crime. Filter out points (0,0) null island\n",
    "crime_point = crime_data_df.filter(((col(\"LON\")!=0) | (col(\"LAT\")!=0))).withColumn(\"point_crime\", ST_Point(\"LON\", \"LAT\")).select(\"DR_NO\",\"point_crime\")\n",
    "print(\"Number of crimes in the start: \", crime_point.count()) \n",
    "# police stations\n",
    "police_path = \"s3://initial-notebook-data-bucket-dblab-905418150721/LA_Police_Stations.csv\"\n",
    "police_df = spark.read.csv(police_path, header=True, inferSchema=True)\n",
    "# set an ST point for each police station\n",
    "police_df_with_point = police_df.withColumn(\"point_police\", ST_Point(\"X\", \"Y\")).select(\"point_police\",\"Division\")\n",
    "#perform crossjoin between station and crimes\n",
    "police_and_crimes = police_df_with_point.crossJoin(crime_point) \\\n",
    "                    .withColumn(\"distance_km\", ST_DistanceSphere(\"point_crime\", \"point_police\")/1000) \\\n",
    "                    .drop(\"point_police\")\n",
    "# rank pairs of crime_id and police station based on their distance\n",
    "# keep only the pairs with rank==1, meaning for each crime keep only its nearest police station\n",
    "window_spec = Window.partitionBy(\"DR_NO\").orderBy(\"distance_km\")\n",
    "crime_with_nearest_police = police_and_crimes.withColumn(\"rank\", row_number().over(window_spec)) \\\n",
    "                            .filter(col(\"rank\") == 1) \\\n",
    "                            .select(\"Division\", \"distance_km\")\n",
    "final_result = crime_with_nearest_police.groupBy(\"Division\") \\\n",
    "               .agg(format_number(avg(\"distance_km\"),4).alias(\"average_distance_km\"),count(\"*\").alias(\"crime_count\"))\n",
    "print(\"Number of crimes in the end: \", final_result.agg(sum(\"crime_count\")).collect()[0][0])\n",
    "final_result.orderBy(col(\"crime_count\").desc()).show()\n",
    "end_time = time.time()\n",
    "exec_time = end_time - start_time\n",
    "results.append({\n",
    "    \"Executor instances\": conf.get(\"spark.executor.instances\"),\n",
    "    \"cores\": conf.get(\"spark.executor.cores\"),\n",
    "    \"memory\": conf.get(\"spark.executor.memory\"),\n",
    "    \"time\": exec_time\n",
    "})\n",
    "# Assuming `results` is a list of dictionaries (if you're not using a DataFrame)\n",
    "results_df = spark.createDataFrame(results)\n",
    "\n",
    "# Save the DataFrame to S3 as JSON\n",
    "results_df.write.mode(\"append\").json(\"s3://groups-bucket-dblab-905418150721/group45/q5/results.json\")\n"
   ]
  },
  {
   "cell_type": "code",
   "execution_count": 7,
   "id": "c70529f0-9851-4605-aca5-979477f5e4f6",
   "metadata": {
    "tags": []
   },
   "outputs": [
    {
     "data": {
      "application/vnd.jupyter.widget-view+json": {
       "model_id": "",
       "version_major": 2,
       "version_minor": 0
      },
      "text/plain": [
       "FloatProgress(value=0.0, bar_style='info', description='Progress:', layout=Layout(height='25px', width='50%'),…"
      ]
     },
     "metadata": {},
     "output_type": "display_data"
    },
    {
     "name": "stdout",
     "output_type": "stream",
     "text": [
      "+------------------+-----+------+------------------+\n",
      "|Executor instances|cores|memory|              time|\n",
      "+------------------+-----+------+------------------+\n",
      "|                 2|    4|    8g|31.710615396499634|\n",
      "|                 4|    2|    4g|37.794593811035156|\n",
      "|                 8|    1|    2g|54.164450883865356|\n",
      "+------------------+-----+------+------------------+"
     ]
    }
   ],
   "source": [
    "results_df = spark.read.json(\"s3://groups-bucket-dblab-905418150721/group45/q5/results.json\")\n",
    "results_df.show()\n"
   ]
  }
 ],
 "metadata": {
  "kernelspec": {
   "display_name": "Sparkmagic (PySpark)",
   "language": "python",
   "name": "pysparkkernel"
  },
  "language_info": {
   "codemirror_mode": {
    "name": "python",
    "version": 3
   },
   "file_extension": ".py",
   "mimetype": "text/x-python",
   "name": "pyspark",
   "pygments_lexer": "python3"
  }
 },
 "nbformat": 4,
 "nbformat_minor": 5
}
